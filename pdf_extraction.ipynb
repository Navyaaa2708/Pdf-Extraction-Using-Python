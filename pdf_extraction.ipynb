{
  "cells": [
    {
      "cell_type": "markdown",
      "metadata": {
        "id": "view-in-github",
        "colab_type": "text"
      },
      "source": [
        "<a href=\"https://colab.research.google.com/github/Navyaaa2708/Pdf-Extraction-Using-Python/blob/main/pdf_extraction.ipynb\" target=\"_parent\"><img src=\"https://colab.research.google.com/assets/colab-badge.svg\" alt=\"Open In Colab\"/></a>"
      ]
    },
    {
      "cell_type": "code",
      "execution_count": null,
      "metadata": {
        "colab": {
          "base_uri": "https://localhost:8080/"
        },
        "collapsed": true,
        "id": "nlmN2C6fS3CB",
        "outputId": "35c336f3-a666-4b06-c697-6e96be91cc30"
      },
      "outputs": [
        {
          "name": "stdout",
          "output_type": "stream",
          "text": [
            "Collecting pypdf\n",
            "  Downloading pypdf-5.8.0-py3-none-any.whl.metadata (7.1 kB)\n",
            "Downloading pypdf-5.8.0-py3-none-any.whl (309 kB)\n",
            "\u001b[?25l   \u001b[90m━━━━━━━━━━━━━━━━━━━━━━━━━━━━━━━━━━━━━━━━\u001b[0m \u001b[32m0.0/309.7 kB\u001b[0m \u001b[31m?\u001b[0m eta \u001b[36m-:--:--\u001b[0m\r\u001b[2K   \u001b[91m━━━━━━━━━━━━━━━━━━━━━━━━━━━━━━━━━━━━━━━\u001b[0m\u001b[91m╸\u001b[0m \u001b[32m307.2/309.7 kB\u001b[0m \u001b[31m10.4 MB/s\u001b[0m eta \u001b[36m0:00:01\u001b[0m\r\u001b[2K   \u001b[90m━━━━━━━━━━━━━━━━━━━━━━━━━━━━━━━━━━━━━━━━\u001b[0m \u001b[32m309.7/309.7 kB\u001b[0m \u001b[31m7.3 MB/s\u001b[0m eta \u001b[36m0:00:00\u001b[0m\n",
            "\u001b[?25hInstalling collected packages: pypdf\n",
            "Successfully installed pypdf-5.8.0\n"
          ]
        }
      ],
      "source": [
        "!pip install pypdf\n",
        "from pypdf import PdfReader"
      ]
    },
    {
      "cell_type": "code",
      "execution_count": null,
      "metadata": {
        "colab": {
          "base_uri": "https://localhost:8080/"
        },
        "id": "hsdLWCS6VOx5",
        "outputId": "84d346f3-4cc6-4ea5-ab9f-83217cc504cf"
      },
      "outputs": [
        {
          "name": "stdout",
          "output_type": "stream",
          "text": [
            "Overview \n",
            "Foundation Level Extensions \n",
            "Version 1.0 \n",
            "International Software Testing Qualifications Board \n",
            "Copyright Notice \n",
            "This document may be copied in its entirety, or extracts made, if the source is acknowledged. \n",
            "International Overview Software Testing \n",
            "Foundation Level Extension – Agile Tester Qualifications \n",
            "Board \n",
            "Copyright © International Software Testing Qualifications Board (hereinafter called ISTQB®). \n",
            "Version 2014 Page 2 of 12 May 31, 2014 \n",
            "© International Software Testing Qualifications Board \n",
            "Qualifications Board \n",
            "International Overview Software Testing \n",
            "Foundation Level Extension – Agile Tester \n",
            "Revision History \n",
            "Version Date Remarks \n",
            "0.1 18 JUNE 2013 Initial version \n",
            "0.2 23 JULY 2013 WG reviewed and confirmed \n",
            "0.3 6 NOV 2013 amended population and diagram \n",
            "0.7 11 DEC 2013 Amended Business Outcomes and Chapters matching \n",
            "0.8 20 DEC 2013 Working group updates on 0.7 \n",
            "1.0 31 MAY 2014 GA release for Agile Extension \n",
            "Version 2014 Page 3 of 12 May 31, 2014 \n",
            "© International Software Testing Qualifications Board \n",
            ".......................................................................................................................................... \n",
            "................................\n",
            "........................................................................................................ \n",
            "............................................................................ \n",
            "............................................................... \n",
            "..................................................................................................................... \n",
            "............................................................................................................ \n",
            "................................................................................................................... \n",
            "................................................................................................................... \n",
            "................................................................................................... \n",
            "...................................................................................................................... \n",
            "......................................... \n",
            "................................................................................................................. \n",
            ".................................................................................................................................... \n",
            ".......................................................................................................................................... \n",
            "............................................................................................................................. \n",
            "....................................................................................................... \n",
            "International Overview Software Testing \n",
            "Foundation Level Extension – Agile Tester Qualifications \n",
            "Board \n",
            "Table of Contents \n",
            "Revision History 3 \n",
            "Table of Contents 4 \n",
            "1. Introduction to the Foundation Level Extensions 6 \n",
            "2. Introduction to Foundation Level Agile Tester Extension 7 \n",
            "2.1 Intended Audience 7 \n",
            "2.2 Career Paths for Testers 7 \n",
            "2.3 Learning Objectives 7 \n",
            "2.4 Entry Requirements 8 \n",
            "2.5 Structure and Course Duration 8 \n",
            "2.6 Keeping It Current 9 \n",
            "3. Overview of the Foundation Level Extension – Agile Tester Syllabus 10 \n",
            "3.1 Business Outcomes 10 \n",
            "3.2 Content 10 \n",
            "4. References 12 \n",
            "4.1 Trademarks 12 \n",
            "4.2 Documents and Web Sites 12 \n",
            "Version 2014 Page 4 of 12 May 31, 2014 \n",
            "© International Software Testing Qualifications Board \n",
            "International Overview Software Testing \n",
            "Foundation Level Extension – Agile Tester Qualifications \n",
            "Board \n",
            "Acknowledgements \n",
            "This document was produced by a team from the International Software Testing Qualifications Board \n",
            "Foundation Level Working Group. \n",
            "The Agile Extension team thanks the review team and the National Boards for their suggestions and input. \n",
            "At the time the Foundation Level Agile Extension Syllabus was completed, the Agile Extension Working \n",
            "Group had the following membership: Rex Black (Chair), Bertrand Cornanguer (Vice Chair), Gerry \n",
            "Coleman (Learning Objectives Lead), Debra Friedenberg (Exam Lead), Alon Linetzki (Business Outcomes \n",
            "and Marketing Lead), Tauhida Parveen (Editor), and Leo van der Aalst (Development Lead). \n",
            "Authors: Rex Black, Anders Claesson, Gerry Coleman, Bertrand Cornanguer, Istvan Forgacs, Alon \n",
            "Linetzki, Tilo Linz, Leo van der Aalst, Marie Walsh, and Stephan Weber. \n",
            "Internal Reviewers: Mette Bruhn-Pedersen, Christopher Clements, Alessandro Collino, Debra \n",
            "Friedenberg, Kari Kakkonen, Beata Karpinska, Sammy Kolluru, Jennifer Leger, Thomas Mueller, Tuula \n",
            "Pääkkönen, Meile Posthuma, Gabor Puhalla, Lloyd Roden, Marko Rytkönen, Monika Stoecklein-Olsen, \n",
            "Robert Treffny, Chris Van Bael, and Erik van Veenendaal. \n",
            "The team thanks also the following persons, from the National Boards and the Agile expert community, \n",
            "who \n",
            "participated in reviewing, commenting, and balloting of the Foundation Agile Extension Syllabus: Dani \n",
            "Almog, Richard Berns, Stephen Bird, Monika Bögge, Afeng Chai, Josephine Crawford, Tibor Csöndes, \n",
            "Huba Demeter, Arnaud Foucal, Cyril Fumery, Kobi Halperin, Inga Hansen, Hanne Hinz, Jidong Hu, Phill \n",
            "Isles, Shirley Itah, Martin Klonk, Kjell Lauren, Igal Levi, Rik Marselis, Johan Meivert, Armin Metzger, Peter \n",
            "Morgan, Ninna Morin, Ingvar Nordstrom, Chris O’Dea, Klaus Olsen, Ismo Paukamainen, Nathalie Phung, \n",
            "Helmut Pichler, Salvatore Reale, Stuart Reid, Hans Rombouts, Petri Säilynoja, Soile Sainio, Lars-Erik \n",
            "Sandberg, Dakar Shalom,  Jian Shen, Marco Sogliani, Lucjan Stapp, Yaron Tsubery, Sabine Uhde, \n",
            "Stephanie Ulrich, Tommi Välimäki, Jurian Van de Laar, Marnix Van den Ent, António Vieira Melo, Wenye \n",
            "Xu, Ester Zabar, Wenqiang Zheng, Peter Zimmerer, Stevan Zivanovic, and Terry Zuo. \n",
            "Thi\n",
            "s document was formally approved for release by the General Assembly of the ISTQB® on May 31, \n",
            "2014. \n",
            "Version 2014 Page 5 of 12 May 31, 2014 \n",
            "© International Software Testing Qualifications Board \n",
            "Qualifications Board \n",
            "International Overview Software Testing \n",
            "Foundation Level Extension – Agile Tester \n",
            "1. Introduction to the Foundation Level Extensions \n",
            "This overview document is intended for anyone with an interest in the ISTQB Foundation Level \n",
            "Extensions who wants a high-level introduction to the leading principles and an overview of the individual \n",
            "extension syllabi. \n",
            "From time to time, ISTQB will update this document to reflect any additional extensions that shall be \n",
            "introduced for the Foundation Level, or to reflect major changes in existing ones. Publications of the \n",
            "updated document will be available on the ISTQB website. \n",
            "The ISTQB Foundation and Advanced Level syllabi have been defined and have been on the market for \n",
            "some time. New topics emerge due to technology and methodology changes in the market which often \n",
            "are brought into the ISTQB program as new Expert Level syllabi . However, not all topics are suited for the \n",
            "Expert Level. For this reason, the extension syllabi are established at the Foundation Level to expand the \n",
            "ISTQB program to incorporate new or updated knowledge. New extensions shall be discussed and \n",
            "introduced by the ISTQB periodically. Extensions may be established at the Advanced Level as well, but \n",
            "that is beyond the scope of this document. \n",
            "The following Foundation Level Extension syllabus has been released: \n",
            " Agile Tester \n",
            "In this document, each Foundation Level Extension syllabus is summarized and the associated Business \n",
            "Outcomes are stated. The Business Outcomes communicate what can be expected from a person who \n",
            "achieves a Foundation Level Extension Certification in a particular subject area (e.g., Agile Tester), and \n",
            "will outline the benefits for companies that are considering the development of specific testing skills at this \n",
            "level. \n",
            "Version 2014 Page 6 of 12 May 31, 2014 \n",
            "© International Software Testing Qualifications Board \n",
            "Qualifications Board \n",
            "International Overview Software Testing \n",
            "Foundation Level Extension – Agile Tester \n",
            "2. Introduction to Foundation Level Agile Tester Extension \n",
            "The certification for Foundation Level Extension – Agile Tester is designed for professionals who are \n",
            "working within Agile environments. It is also for professionals who are planning to start implementing \n",
            "Agile methods in the near future, or are working within companies that plan to do so , The certification \n",
            "provides an advantage for those who would like to know the required Agile activities, roles, methods, and \n",
            "methodologies specific to their role. \n",
            "2.1 Intended Audience \n",
            "The Foundation Level Extension – Agile Tester qualification is aimed at four main groups of professionals: \n",
            "1. Professionals who have achieved in-depth testing experience in traditional methods and would \n",
            "like to get an Agile Tester Certificate. \n",
            "2. Junior professional testers who are just starting in the testing profession, have received the \n",
            "Foundation Level certificate, and would like to know more about the tester’s role in an Agile \n",
            "environment. \n",
            "3. Professionals who are relatively new to testing and are required to implement test approaches, \n",
            "methods and techniques in their day to day job in Agile projects. \n",
            "4. Professionals who are experienced in their role (including unit testing) and need more \n",
            "understanding and knowledge about how to perform and manage testing on all levels in Agile \n",
            "projects. \n",
            "These professionals include people who are in roles such as testers , test analysts , test engineers, test \n",
            "consultants, test managers, user acceptance testers, and software developers. \n",
            "This Foundation Level Extension – Agile Tester certification may also be appropriate for anyone who \n",
            "wants a deeper understanding of software testing in the Agile world, such as project managers, quality \n",
            "managers, software development managers, business analysts, IT directors, and management \n",
            "consultants. \n",
            "2.2 Career Paths for Testers \n",
            "Building on the Foundation Level, the Agile Tester Extension supports the definition of career paths for \n",
            "professional testers. A person with the Agile Tester certificate has extended the broad understanding of \n",
            "testing acquired at the Foundation Level to enable him or her to work effectively as a professional test er in \n",
            "an Agile project.  \n",
            "People possessing an ISTQB Foundation Level Extension – Agile Tester certificate may use the Certified \n",
            "Tester Foundation Level acronym CTFL-AT. \n",
            "2.3 Learning Objectives \n",
            "In general, the Foundation Level syllabus is examinable at a K1 level, i.e., the candidate will recognize, \n",
            "remember and recall terms and concepts stated in the Foundation Level syllabus . \n",
            "In addition, all Foundation Level syllabus learning objectives are examinable at the same K- level in an \n",
            "extension exam. \n",
            "Version 2014 Page 7 of 12 May 31, 2014 \n",
            "© International Software Testing Qualifications Board \n",
            "Qualifications Board \n",
            "International Overview Software Testing \n",
            "Foundation Level Extension – Agile Tester \n",
            "That said, each extension level exam focus es on the learning objectives defined in that extension \n",
            "syllabus. The relevant learning objectives at K1, K2, and K3 levels are provided at the beginning of each \n",
            "chapter within each particular extension syllabus. \n",
            "2.4 Entry Requirements \n",
            "To be able to participate in a Foundation Level Extension – Agile Tester exam, candidates must have \n",
            "obtained the ISTQB Foundation Level certificate. \n",
            "2.5 Structure and Course Duration \n",
            "The Foundation Level Extension – Agile Tester syllabus has no shared or common elements with the \n",
            "Foundation Level syllabus. \n",
            "The syllabi must be taught in the following minimum number of days: \n",
            "Syllabus Days \n",
            "Baseline: Foundation 3 \n",
            "Extension: Agile Tester 2 \n",
            "The following figure shows the structure of the Agile Tester Extension and its relationship to the \n",
            "Foundation Level. \n",
            "Version 2014 Page 8 of 12 May 31, 2014 \n",
            "© International Software Testing Qualifications Board \n",
            "Qualifications Board \n",
            "International Overview Software Testing \n",
            "Foundation Level Extension – Agile Tester \n",
            "2.6 Keeping It Current \n",
            "The software industry changes rapidly. To deal with these changes and to provide the stakeholders with \n",
            "access to relevant and current information, the ISTQB working groups have created links on the \n",
            "www.istqb.org web site which refer to supporting documents, changes to standards and new occurrences \n",
            "in the industry. This information is not examinable under this syllab us. \n",
            "Version 2014 Page 9 of 12 May 31, 2014 \n",
            "© International Software Testing Qualifications Board \n",
            "Qualifications Board \n",
            "International Overview Software Testing \n",
            "Foundation Level Extension – Agile Tester \n",
            "3. Overview of the Foundation Level Extension – Agile Tester\n",
            "Syllabus \n",
            "3.1 Business Outcomes \n",
            "This section lists the Business Outcomes expected of a candidate who has achieved the Foundation Level \n",
            "Extension – Agile Tester certification. \n",
            "An Agile Tester can… \n",
            "AFM1 Collaborate in a cross-functional Agile team being familiar with principles and basic \n",
            "practices of Agile software development. \n",
            "AFM2 Adapt existing testing experience and knowledge to Agile values and principles. \n",
            "AFM3 Support the Agile team in planning test-related activities. \n",
            "AFM4 Apply relevant methods and techniques for testing in an Agile project. \n",
            "AFM5 Assist the Agile team in test automation activities. \n",
            "AFM6 Assist business stakeholders in defining understandable and testable user stories, \n",
            "scenarios, requirements and acceptance criteria as appropriate. \n",
            "AFM7 Work and share information with other team members using effective communication \n",
            "styles and channels. \n",
            "In general, a Certified Tester Foundation Level – Agile Tester is expected to have acquired the necessary \n",
            "skills to working effectively within an Agile team and environment. \n",
            "3.2 Content \n",
            "Chapter 1: Agile Software Development \n",
            " The tester should remember the basic concept of Agile software development based on the Agile \n",
            "Manifesto. \n",
            " The tester should understand the advantages of the whole-team approach and the benefits of \n",
            "early and frequent feedback. \n",
            " The tester should recall Agile software development approaches. \n",
            " The tester should be able to write testable user stories in collaboration with developers and \n",
            "business representatives. \n",
            " The tester should understand how retrospectives can be used as a mechanism for process \n",
            "improvement in Agile projects. \n",
            " The tester should understand the use and purpose of continuous integration. \n",
            " The tester should know the differences between iteration and release planning, and how a tester \n",
            "adds value in each of these activities. \n",
            "Version 2014 Page 10 of 12 May 31, 2014 \n",
            "© International Software Testing Qualifications Board \n",
            "International Overview Software Testing \n",
            "Foundation Level Extension – Agile Tester Qualifications \n",
            "Board \n",
            "Chapter 2: Fundamental Agile Testing Principles, Practices, and Processes \n",
            " The tester should be able to describe the differences between testing activities in Agile projects \n",
            "and non-Agile projects. \n",
            " The tester should be able to describe how development and testing activities are integrated in \n",
            "Agile projects. \n",
            " The tester should be able to describe the role of independent testing in Agile projects. \n",
            " The tester should be able to describe the tools and techniques used to communicate the status of \n",
            "testing in an Agile project, including test progress and product quality. \n",
            " The tester should be able to describe the process of evolving tests across multiple iterations and \n",
            "explain why test automation is important to manage regression risk in Agile projects. \n",
            " The tester should understand the skills (people, domain, and testing) of a tester in an Agile team. \n",
            " The tester should be able to understand the role of a tester within an Agile team. \n",
            "Chapter 3: Agile Testing Methods, Techniques, and Tools \n",
            " The tester should be able to recall the concepts of test-driven development, acceptance test-\n",
            "driven development, and behavior-driven development. \n",
            " The tester should be able to recall the concepts of the test pyramid. \n",
            " The tester should be able to summarize the testing quadrants and their relationships with testing \n",
            "levels and testing types. \n",
            " For a given Agile project, the tester should be able to work as a tester in a Scrum team. \n",
            " The tester should be able to assess quality risks within an Agile project. \n",
            " The tester should be able to estimate testing effort based on iteration content and quality risks. \n",
            " The tester should be able to interpret relevant information to support testing activities. \n",
            " The tester should be able to explain to business stakeholders how to define testable acceptance \n",
            "criteria. \n",
            " Given a user story, the tester should be able to write acceptance test-driven development test \n",
            "cases. \n",
            " For both functional and non-functional behavior, the tester should be able to write test cases using \n",
            "black box test design techniques based on given user stories. \n",
            " The tester should be able to perform exploratory testing to support the testing of an Agile project. \n",
            " The tester should be able to recall different tools available to testers according to their purpose \n",
            "and to activities in Agile projects. \n",
            "Version 2014 Page 11 of 12 May 31, 2014 \n",
            "© International Software Testing Qualifications Board \n",
            "Qualifications Board \n",
            "International Overview Software Testing \n",
            "Foundation Level Extension – Agile Tester \n",
            "4. References \n",
            "4.1 Trademarks \n",
            "The following registered trademarks and service marks are used in this document: \n",
            "ISTQB® is a registered trademark of the International Software Testing Qualifications Board \n",
            "4.2 Documents and Web Sites \n",
            "Identifier Reference \n",
            "[ISTQB-Web] Web site of the International Software Testing Qualifications Board. Refer \n",
            "to this website for the latest ISTQB Glossary and Syllabi. (www.istqb.org) \n",
            "Version 2014 Page 12 of 12 May 31, 2014 \n",
            "© International Software Testing Qualifications Board \n"
          ]
        }
      ],
      "source": [
        "reader = PdfReader('file02.pdf')\n",
        "# print(len(reader.pages))\n",
        "page=reader.pages[4]\n",
        "for i in range(len(reader.pages)):\n",
        "  page=reader.pages[i]\n",
        "  print(page.extract_text())"
      ]
    },
    {
      "cell_type": "code",
      "execution_count": null,
      "metadata": {
        "colab": {
          "base_uri": "https://localhost:8080/"
        },
        "collapsed": true,
        "id": "bSzBNqRxVPLc",
        "outputId": "6a538f96-483b-41c7-c3d4-17f39dde6523"
      },
      "outputs": [
        {
          "name": "stdout",
          "output_type": "stream",
          "text": [
            "Collecting pdfplumber\n",
            "  Downloading pdfplumber-0.11.7-py3-none-any.whl.metadata (42 kB)\n",
            "\u001b[?25l     \u001b[90m━━━━━━━━━━━━━━━━━━━━━━━━━━━━━━━━━━━━━━━━\u001b[0m \u001b[32m0.0/42.8 kB\u001b[0m \u001b[31m?\u001b[0m eta \u001b[36m-:--:--\u001b[0m\r\u001b[2K     \u001b[90m━━━━━━━━━━━━━━━━━━━━━━━━━━━━━━━━━━━━━━━━\u001b[0m \u001b[32m42.8/42.8 kB\u001b[0m \u001b[31m2.6 MB/s\u001b[0m eta \u001b[36m0:00:00\u001b[0m\n",
            "\u001b[?25hCollecting pdfminer.six==20250506 (from pdfplumber)\n",
            "  Downloading pdfminer_six-20250506-py3-none-any.whl.metadata (4.2 kB)\n",
            "Requirement already satisfied: Pillow>=9.1 in /usr/local/lib/python3.11/dist-packages (from pdfplumber) (11.3.0)\n",
            "Collecting pypdfium2>=4.18.0 (from pdfplumber)\n",
            "  Downloading pypdfium2-4.30.0-py3-none-manylinux_2_17_x86_64.manylinux2014_x86_64.whl.metadata (48 kB)\n",
            "\u001b[2K     \u001b[90m━━━━━━━━━━━━━━━━━━━━━━━━━━━━━━━━━━━━━━━━\u001b[0m \u001b[32m48.5/48.5 kB\u001b[0m \u001b[31m3.2 MB/s\u001b[0m eta \u001b[36m0:00:00\u001b[0m\n",
            "\u001b[?25hRequirement already satisfied: charset-normalizer>=2.0.0 in /usr/local/lib/python3.11/dist-packages (from pdfminer.six==20250506->pdfplumber) (3.4.2)\n",
            "Requirement already satisfied: cryptography>=36.0.0 in /usr/local/lib/python3.11/dist-packages (from pdfminer.six==20250506->pdfplumber) (43.0.3)\n",
            "Requirement already satisfied: cffi>=1.12 in /usr/local/lib/python3.11/dist-packages (from cryptography>=36.0.0->pdfminer.six==20250506->pdfplumber) (1.17.1)\n",
            "Requirement already satisfied: pycparser in /usr/local/lib/python3.11/dist-packages (from cffi>=1.12->cryptography>=36.0.0->pdfminer.six==20250506->pdfplumber) (2.22)\n",
            "Downloading pdfplumber-0.11.7-py3-none-any.whl (60 kB)\n",
            "\u001b[2K   \u001b[90m━━━━━━━━━━━━━━━━━━━━━━━━━━━━━━━━━━━━━━━━\u001b[0m \u001b[32m60.0/60.0 kB\u001b[0m \u001b[31m5.4 MB/s\u001b[0m eta \u001b[36m0:00:00\u001b[0m\n",
            "\u001b[?25hDownloading pdfminer_six-20250506-py3-none-any.whl (5.6 MB)\n",
            "\u001b[2K   \u001b[90m━━━━━━━━━━━━━━━━━━━━━━━━━━━━━━━━━━━━━━━━\u001b[0m \u001b[32m5.6/5.6 MB\u001b[0m \u001b[31m76.2 MB/s\u001b[0m eta \u001b[36m0:00:00\u001b[0m\n",
            "\u001b[?25hDownloading pypdfium2-4.30.0-py3-none-manylinux_2_17_x86_64.manylinux2014_x86_64.whl (2.8 MB)\n",
            "\u001b[2K   \u001b[90m━━━━━━━━━━━━━━━━━━━━━━━━━━━━━━━━━━━━━━━━\u001b[0m \u001b[32m2.8/2.8 MB\u001b[0m \u001b[31m85.2 MB/s\u001b[0m eta \u001b[36m0:00:00\u001b[0m\n",
            "\u001b[?25hInstalling collected packages: pypdfium2, pdfminer.six, pdfplumber\n",
            "Successfully installed pdfminer.six-20250506 pdfplumber-0.11.7 pypdfium2-4.30.0\n"
          ]
        }
      ],
      "source": [
        "!pip install pdfplumber\n",
        "import pdfplumber"
      ]
    },
    {
      "cell_type": "code",
      "execution_count": null,
      "metadata": {
        "colab": {
          "base_uri": "https://localhost:8080/"
        },
        "id": "E0RcICLMVPV6",
        "outputId": "585e9428-14b6-409b-97d2-aa79c951c844"
      },
      "outputs": [
        {
          "name": "stdout",
          "output_type": "stream",
          "text": [
            "[]\n",
            "[]\n",
            "[[['Version', 'Date', 'Remarks'], ['0.1', '18 JUNE 2013', 'Initial version'], ['0.2', '23 JULY 2013', 'WG reviewed and confirmed'], ['0.3', '6 NOV 2013', 'amended population and diagram'], ['0.7', '11 DEC 2013', 'Amended Business Outcomes and Chapters matching'], ['0.8', '20 DEC 2013', 'Working group updates on 0.7'], ['1.0', '31 MAY 2014', 'GA release for Agile Extension']]]\n",
            "[]\n",
            "[]\n",
            "[]\n",
            "[]\n",
            "[[['Syllabus', 'Days'], ['Baseline: Foundation', '3'], ['Extension: Agile Tester', '2']]]\n",
            "[]\n",
            "[]\n",
            "[]\n",
            "[]\n"
          ]
        }
      ],
      "source": [
        "with pdfplumber.open('file02.pdf') as f:\n",
        "  for i in f.pages:\n",
        "    print(i.extract_tables())"
      ]
    },
    {
      "cell_type": "code",
      "execution_count": null,
      "metadata": {
        "colab": {
          "base_uri": "https://localhost:8080/"
        },
        "collapsed": true,
        "id": "pkViJ0ZBVPfZ",
        "outputId": "42a5b3aa-c03e-49ed-f37b-49a201ae1ec9"
      },
      "outputs": [
        {
          "output_type": "stream",
          "name": "stdout",
          "text": [
            "Collecting pymupdf\n",
            "  Downloading pymupdf-1.26.3-cp39-abi3-manylinux_2_28_x86_64.whl.metadata (3.4 kB)\n",
            "Downloading pymupdf-1.26.3-cp39-abi3-manylinux_2_28_x86_64.whl (24.1 MB)\n",
            "\u001b[2K   \u001b[90m━━━━━━━━━━━━━━━━━━━━━━━━━━━━━━━━━━━━━━━━\u001b[0m \u001b[32m24.1/24.1 MB\u001b[0m \u001b[31m39.6 MB/s\u001b[0m eta \u001b[36m0:00:00\u001b[0m\n",
            "\u001b[?25hInstalling collected packages: pymupdf\n",
            "Successfully installed pymupdf-1.26.3\n"
          ]
        }
      ],
      "source": [
        "!pip install pymupdf\n",
        "import fitz"
      ]
    },
    {
      "cell_type": "code",
      "execution_count": null,
      "metadata": {
        "colab": {
          "base_uri": "https://localhost:8080/"
        },
        "id": "NEDv0YFRVP6T",
        "outputId": "de1fa75b-3611-4e8f-f9d4-19c7e62eaa96"
      },
      "outputs": [
        {
          "name": "stdout",
          "output_type": "stream",
          "text": [
            "12\n"
          ]
        }
      ],
      "source": [
        "doc = fitz.open('file02.pdf')\n",
        "print(doc.page_count)"
      ]
    },
    {
      "cell_type": "code",
      "execution_count": null,
      "metadata": {
        "colab": {
          "base_uri": "https://localhost:8080/"
        },
        "id": "ZFPZnmZxN_kr",
        "outputId": "3425b778-b0ac-4b8f-8026-654d7d5e8559"
      },
      "outputs": [
        {
          "name": "stdout",
          "output_type": "stream",
          "text": [
            "{'format': 'PDF 1.5', 'title': 'ISTQB Expert Level Modules Overview', 'author': 'Graham Bath', 'subject': '', 'keywords': '', 'creator': 'Microsoft® Word 2010', 'producer': 'Microsoft® Word 2010', 'creationDate': \"D:20140517140759+12'00'\", 'modDate': \"D:20250715114233+05'30'\", 'trapped': '', 'encryption': None}\n"
          ]
        }
      ],
      "source": [
        "print(doc.metadata)"
      ]
    },
    {
      "cell_type": "code",
      "execution_count": null,
      "metadata": {
        "colab": {
          "base_uri": "https://localhost:8080/"
        },
        "id": "44MDymKOOIAI",
        "outputId": "625952f3-0805-41ef-a60c-05d27564927a"
      },
      "outputs": [
        {
          "name": "stdout",
          "output_type": "stream",
          "text": [
            "Qualifications Board \n",
            "International \n",
            "Overview \n",
            "Software Testing \n",
            "Foundation Level Extension – Agile Tester \n",
            "That said, each extension level exam focuses on the learning objectives defined in that extension \n",
            "syllabus. The relevant learning objectives at K1, K2, and K3 levels are provided at the beginning of each \n",
            "chapter within each particular extension syllabus. \n",
            "2.4 Entry Requirements \n",
            "To be able to participate in a Foundation Level Extension – Agile Tester exam, candidates must have \n",
            "obtained the ISTQB Foundation Level certificate. \n",
            "2.5 Structure and Course Duration \n",
            "The Foundation Level Extension – Agile Tester syllabus has no shared or common elements with the \n",
            "Foundation Level syllabus. \n",
            "The syllabi must be taught in the following minimum number of days: \n",
            "Syllabus \n",
            "Days \n",
            "Baseline: Foundation \n",
            "3 \n",
            "Extension: Agile Tester \n",
            "2 \n",
            "The following figure shows the structure of the Agile Tester Extension and its relationship to the \n",
            "Foundation Level. \n",
            "Version 2014 \n",
            "Page 8 of 12 \n",
            "May 31, 2014 \n",
            "© International Software Testing Qualifications Board \n",
            "\n"
          ]
        }
      ],
      "source": [
        "page= doc.load_page(7)\n",
        "print(page.get_text())"
      ]
    },
    {
      "cell_type": "code",
      "execution_count": null,
      "metadata": {
        "colab": {
          "base_uri": "https://localhost:8080/",
          "height": 211
        },
        "id": "1J-1gOb_OZJE",
        "outputId": "b3ce4c8b-5663-4467-b16a-3033060c51ce"
      },
      "outputs": [
        {
          "output_type": "error",
          "ename": "NameError",
          "evalue": "name 'page' is not defined",
          "traceback": [
            "\u001b[0;31m---------------------------------------------------------------------------\u001b[0m",
            "\u001b[0;31mNameError\u001b[0m                                 Traceback (most recent call last)",
            "\u001b[0;32m/tmp/ipython-input-1542691589.py\u001b[0m in \u001b[0;36m<cell line: 0>\u001b[0;34m()\u001b[0m\n\u001b[0;32m----> 1\u001b[0;31m \u001b[0mpix\u001b[0m\u001b[0;34m=\u001b[0m\u001b[0mpage\u001b[0m\u001b[0;34m.\u001b[0m\u001b[0mget_pixmap\u001b[0m\u001b[0;34m(\u001b[0m\u001b[0;34m)\u001b[0m\u001b[0;34m\u001b[0m\u001b[0;34m\u001b[0m\u001b[0m\n\u001b[0m\u001b[1;32m      2\u001b[0m \u001b[0;32mif\u001b[0m \u001b[0mpix\u001b[0m\u001b[0;34m.\u001b[0m\u001b[0msave\u001b[0m\u001b[0;34m(\u001b[0m\u001b[0;34mf\"page_{page.number}.png\"\u001b[0m\u001b[0;34m)\u001b[0m\u001b[0;34m:\u001b[0m\u001b[0;34m\u001b[0m\u001b[0;34m\u001b[0m\u001b[0m\n\u001b[1;32m      3\u001b[0m   \u001b[0mprint\u001b[0m\u001b[0;34m(\u001b[0m\u001b[0;34m\"saved\"\u001b[0m\u001b[0;34m)\u001b[0m\u001b[0;34m\u001b[0m\u001b[0;34m\u001b[0m\u001b[0m\n\u001b[1;32m      4\u001b[0m \u001b[0;32melse\u001b[0m\u001b[0;34m:\u001b[0m\u001b[0;34m\u001b[0m\u001b[0;34m\u001b[0m\u001b[0m\n\u001b[1;32m      5\u001b[0m   \u001b[0mprint\u001b[0m\u001b[0;34m(\u001b[0m\u001b[0;34m\"not saved\"\u001b[0m\u001b[0;34m)\u001b[0m\u001b[0;34m\u001b[0m\u001b[0;34m\u001b[0m\u001b[0m\n",
            "\u001b[0;31mNameError\u001b[0m: name 'page' is not defined"
          ]
        }
      ],
      "source": [
        "pix=page.get_pixmap()\n",
        "if pix.save(f\"page_{page.number}.png\"):\n",
        "  print(\"saved\")\n",
        "else:\n",
        "  print(\"not saved\")"
      ]
    },
    {
      "cell_type": "code",
      "execution_count": null,
      "metadata": {
        "colab": {
          "base_uri": "https://localhost:8080/"
        },
        "id": "uLoGE_RIOyVy",
        "outputId": "5ad18abb-c7a8-4916-ab96-39868cf72d37"
      },
      "outputs": [
        {
          "name": "stdout",
          "output_type": "stream",
          "text": [
            "[]\n"
          ]
        }
      ],
      "source": [
        "links = page.get_links()\n",
        "print(links)"
      ]
    }
  ],
  "metadata": {
    "colab": {
      "provenance": [],
      "authorship_tag": "ABX9TyP7ebWU1pnW1y7rvWZrYjOX",
      "include_colab_link": true
    },
    "kernelspec": {
      "display_name": "Python 3",
      "name": "python3"
    },
    "language_info": {
      "name": "python"
    }
  },
  "nbformat": 4,
  "nbformat_minor": 0
}